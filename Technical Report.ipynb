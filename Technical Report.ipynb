{
 "cells": [
  {
   "cell_type": "markdown",
   "metadata": {},
   "source": [
    "# Analysis of Yelp Review data\n",
    "\n",
    "# Overview\n",
    "\n",
    "This work is aimed at getting data from an API. The Yelp API is used to get the data from Yelp. Yelp helps people search for different businesses, especially restaurants and make informed choices by looking at the rating and reviews of others.\n",
    "\n",
    "# Goals\n",
    "\n",
    "- The goal of work is to learn how to use the Yelp API to get data from Yelp and explore the data. \n",
    "    \n",
    "- The goal is to use the data obtained from the Yelp API, in this case Italian restaurants in New York City to evaluate if ratings are a good way to assess a restaurants or a combination of ratings and reviews. We do this by looking at the mean, median and visualization. \n",
    "\n",
    "My hypothesis is that you need to use both ratings and reviews to make a good judgement of the most popular restaurants."
   ]
  },
  {
   "cell_type": "markdown",
   "metadata": {},
   "source": [
    "## Motivation and Background\n",
    "\n",
    "This project is interesting because you learn how to use an API to get data and then use the data to do analysis. \n",
    "\n",
    "Each year, millions of people visit New York for both tourist and businesses purposes. According to Wikipedia, about 38 million people visit the Central Park in New York each year. One of the main things that people want to do when the tour is to find a good place to eat. \n",
    "\n",
    "Information from this project can be used by a tour company to know how to best advice its customers on most popular Italian restaurants. In addition, this project is useful for someone wanting to learn how to use an API and specifically a Yelp API.\n",
    "\n",
    "Other people have done similar studies. Some tutorials show how to analyze Yelp sentiments, for example [Yelp Sentiment Analysis](https://www.youtube.com/watch?v=0j3l5GciFIo). Another tutorial is about how to webscrape using YELP API and other [tools](https://www.youtube.com/watch?v=vgHwPPRM5JE).\n"
   ]
  },
  {
   "cell_type": "markdown",
   "metadata": {},
   "source": [
    "## 1.1 Code - Yelp API\n",
    "\n",
    "The first step in using the Yelp API is to get an account. Once you get an account, choose to make an APP, this then let you get an API key that you need for authentication. For more details please check [Yelp](https://www.yelp.com/developers/documentation/v3). \n",
    "\n",
    "\n",
    "First, choose an endpoint. In my case, I chose the Business Search Endpoint. This endpoint has a limit of 50, and you can use the offset to get a maximum of 1000. You also have to define a 'term', there is a catalogue listing the different terms you can choose from. I chose Italian restuarants in New York. Below is main code needed to get data from Yelp API. Please refer to the Code file in Table of Contents. \n",
    "\n",
    "The code was also set up such that the data received goes to the data folder."
   ]
  },
  {
   "cell_type": "code",
   "execution_count": null,
   "metadata": {},
   "outputs": [],
   "source": [
    "term = 'Italian'\n",
    "location = 'NYC'\n",
    "SEARCH_LIMIT = 50\n",
    "\n",
    "url = 'https://api.yelp.com/v3/businesses/search'\n",
    "\n",
    "headers = {\n",
    "        'Authorization': 'Bearer {}'.format(api_key),\n",
    "    }\n",
    "\n",
    "i=[]\n",
    "\n",
    "# Using the range set the offset and limit\n",
    "for i in range(0,1000,50):\n",
    "    url_params = {\n",
    "                    'term': term,\n",
    "                    'location': location,\n",
    "                    'limit': SEARCH_LIMIT,\n",
    "                    'offset': i\n",
    "                }\n",
    "response = requests.get(url, headers=headers, params=url_params)\n",
    "\n",
    "with open('data/yelpdata.json','w') as data_file:\n",
    "    data_file.write(response.text)\n",
    "\n",
    "print(response)\n",
    "print(type(response.text))\n",
    "print(response.text[:1000])"
   ]
  },
  {
   "cell_type": "markdown",
   "metadata": {},
   "source": [
    "### Merge files to  one csv file\n",
    "\n",
    "The data files are saved as json files.All the data files with the raw data were merged by concatenating the DataFrames. The resulting DataFrame was stored as a *.csv* file. This code is in the code file in Table of Contents."
   ]
  },
  {
   "cell_type": "code",
   "execution_count": null,
   "metadata": {},
   "outputs": [],
   "source": [
    "# Place the yelpdata files into DataFrames for merging\n",
    "#Merge all the yelpdata files to a csv file\n",
    "\n",
    "import pandas as pd\n",
    "import numpy as np\n",
    "import json\n",
    "\n",
    "with open('./data/yelpdata1.json') as f1:\n",
    "    data1=json.load(f1)\n",
    "    \n",
    "with open('./data/yelpdata2.json') as f2:\n",
    "    data2=json.load(f2)\n",
    "    \n",
    "with open('./data/yelpdata3.json') as f3:\n",
    "    data3=json.load(f3)\n",
    "    \n",
    "with open('./data/yelpdata4.json') as f4:\n",
    "    data4=json.load(f4)\n",
    "    \n",
    "with open('./data/yelpdata5.json') as f5:\n",
    "    data5=json.load(f5)\n",
    "\n",
    "#     \n",
    "df1=pd.DataFrame(data1['businesses'])\n",
    "df2=pd.DataFrame(data2['businesses'])\n",
    "df3=pd.DataFrame(data3['businesses'])\n",
    "df4=pd.DataFrame(data4['businesses'])\n",
    "df5=pd.DataFrame(data5['businesses'])\n",
    "\n",
    "MergeJson=pd.concat([df1,df2,df3,df4,df5])\n",
    "MergeJson.to_csv(\"./data/MergeRestaurants.csv\")\n",
    "MergeJson.shape"
   ]
  },
  {
   "cell_type": "markdown",
   "metadata": {},
   "source": [
    "## 1.2 Data Exploration\n",
    "\n",
    "Here we get the Yelp data that was stored in the 'data' folder. So that we can explore the data. "
   ]
  },
  {
   "cell_type": "code",
   "execution_count": 13,
   "metadata": {},
   "outputs": [
    {
     "data": {
      "text/html": [
       "<div>\n",
       "<style scoped>\n",
       "    .dataframe tbody tr th:only-of-type {\n",
       "        vertical-align: middle;\n",
       "    }\n",
       "\n",
       "    .dataframe tbody tr th {\n",
       "        vertical-align: top;\n",
       "    }\n",
       "\n",
       "    .dataframe thead th {\n",
       "        text-align: right;\n",
       "    }\n",
       "</style>\n",
       "<table border=\"1\" class=\"dataframe\">\n",
       "  <thead>\n",
       "    <tr style=\"text-align: right;\">\n",
       "      <th></th>\n",
       "      <th>id</th>\n",
       "      <th>alias</th>\n",
       "      <th>name</th>\n",
       "      <th>image_url</th>\n",
       "      <th>is_closed</th>\n",
       "      <th>url</th>\n",
       "      <th>review_count</th>\n",
       "      <th>categories</th>\n",
       "      <th>rating</th>\n",
       "      <th>coordinates</th>\n",
       "      <th>transactions</th>\n",
       "      <th>price</th>\n",
       "      <th>location</th>\n",
       "      <th>phone</th>\n",
       "      <th>display_phone</th>\n",
       "      <th>distance</th>\n",
       "    </tr>\n",
       "  </thead>\n",
       "  <tbody>\n",
       "    <tr>\n",
       "      <th>0</th>\n",
       "      <td>WG639VkTjmK5dzydd1BBJA</td>\n",
       "      <td>rubirosa-new-york-2</td>\n",
       "      <td>Rubirosa</td>\n",
       "      <td>https://s3-media4.fl.yelpcdn.com/bphoto/LuSzR8...</td>\n",
       "      <td>False</td>\n",
       "      <td>https://www.yelp.com/biz/rubirosa-new-york-2?a...</td>\n",
       "      <td>2258</td>\n",
       "      <td>[{'alias': 'italian', 'title': 'Italian'}, {'a...</td>\n",
       "      <td>4.5</td>\n",
       "      <td>{'latitude': 40.722766, 'longitude': -73.996233}</td>\n",
       "      <td>['delivery', 'pickup']</td>\n",
       "      <td>$$</td>\n",
       "      <td>{'address1': '235 Mulberry St', 'address2': ''...</td>\n",
       "      <td>1.212965e+10</td>\n",
       "      <td>(212) 965-0500</td>\n",
       "      <td>1932.946770</td>\n",
       "    </tr>\n",
       "    <tr>\n",
       "      <th>1</th>\n",
       "      <td>qBGKigOGn_flCx1apxPzlA</td>\n",
       "      <td>piccola-cucina-osteria-new-york</td>\n",
       "      <td>Piccola Cucina Osteria</td>\n",
       "      <td>https://s3-media1.fl.yelpcdn.com/bphoto/U9CN5Q...</td>\n",
       "      <td>False</td>\n",
       "      <td>https://www.yelp.com/biz/piccola-cucina-osteri...</td>\n",
       "      <td>563</td>\n",
       "      <td>[{'alias': 'italian', 'title': 'Italian'}]</td>\n",
       "      <td>4.5</td>\n",
       "      <td>{'latitude': 40.72506, 'longitude': -74.00322}</td>\n",
       "      <td>['delivery', 'pickup']</td>\n",
       "      <td>$$</td>\n",
       "      <td>{'address1': '196 Spring St', 'address2': '', ...</td>\n",
       "      <td>1.646479e+10</td>\n",
       "      <td>(646) 478-7488</td>\n",
       "      <td>2304.888767</td>\n",
       "    </tr>\n",
       "    <tr>\n",
       "      <th>2</th>\n",
       "      <td>DoSU8IPq-Py_YV3kYmXPfQ</td>\n",
       "      <td>trattoria-trecolori-new-york</td>\n",
       "      <td>Trattoria Trecolori</td>\n",
       "      <td>https://s3-media4.fl.yelpcdn.com/bphoto/G8vBgH...</td>\n",
       "      <td>False</td>\n",
       "      <td>https://www.yelp.com/biz/trattoria-trecolori-n...</td>\n",
       "      <td>2345</td>\n",
       "      <td>[{'alias': 'italian', 'title': 'Italian'}]</td>\n",
       "      <td>4.0</td>\n",
       "      <td>{'latitude': 40.75998, 'longitude': -73.98671}</td>\n",
       "      <td>['delivery', 'pickup']</td>\n",
       "      <td>$$</td>\n",
       "      <td>{'address1': '254 West 47th St', 'address2': '...</td>\n",
       "      <td>1.212997e+10</td>\n",
       "      <td>(212) 997-4540</td>\n",
       "      <td>6083.735167</td>\n",
       "    </tr>\n",
       "    <tr>\n",
       "      <th>3</th>\n",
       "      <td>4zw8vEJNc4mcHh2ARzj2gw</td>\n",
       "      <td>osteria-brooklyn-brooklyn</td>\n",
       "      <td>Osteria Brooklyn</td>\n",
       "      <td>https://s3-media1.fl.yelpcdn.com/bphoto/QzJCcB...</td>\n",
       "      <td>False</td>\n",
       "      <td>https://www.yelp.com/biz/osteria-brooklyn-broo...</td>\n",
       "      <td>26</td>\n",
       "      <td>[{'alias': 'italian', 'title': 'Italian'}]</td>\n",
       "      <td>4.5</td>\n",
       "      <td>{'latitude': 40.693154, 'longitude': -73.967177}</td>\n",
       "      <td>[]</td>\n",
       "      <td>NaN</td>\n",
       "      <td>{'address1': '458 Myrtle Ave', 'address2': '',...</td>\n",
       "      <td>1.646751e+10</td>\n",
       "      <td>(646) 750-9156</td>\n",
       "      <td>2663.329278</td>\n",
       "    </tr>\n",
       "    <tr>\n",
       "      <th>4</th>\n",
       "      <td>dh5r9-SbN8xJ76XvnayWLQ</td>\n",
       "      <td>giano-restaurant-new-york</td>\n",
       "      <td>Giano Restaurant</td>\n",
       "      <td>https://s3-media1.fl.yelpcdn.com/bphoto/0PrOZ5...</td>\n",
       "      <td>False</td>\n",
       "      <td>https://www.yelp.com/biz/giano-restaurant-new-...</td>\n",
       "      <td>600</td>\n",
       "      <td>[{'alias': 'italian', 'title': 'Italian'}]</td>\n",
       "      <td>4.5</td>\n",
       "      <td>{'latitude': 40.7262256596862, 'longitude': -7...</td>\n",
       "      <td>['delivery', 'pickup']</td>\n",
       "      <td>$$</td>\n",
       "      <td>{'address1': '126 E 7th St', 'address2': '', '...</td>\n",
       "      <td>1.212674e+10</td>\n",
       "      <td>(212) 673-7200</td>\n",
       "      <td>2466.500860</td>\n",
       "    </tr>\n",
       "  </tbody>\n",
       "</table>\n",
       "</div>"
      ],
      "text/plain": [
       "                       id                            alias  \\\n",
       "0  WG639VkTjmK5dzydd1BBJA              rubirosa-new-york-2   \n",
       "1  qBGKigOGn_flCx1apxPzlA  piccola-cucina-osteria-new-york   \n",
       "2  DoSU8IPq-Py_YV3kYmXPfQ     trattoria-trecolori-new-york   \n",
       "3  4zw8vEJNc4mcHh2ARzj2gw        osteria-brooklyn-brooklyn   \n",
       "4  dh5r9-SbN8xJ76XvnayWLQ        giano-restaurant-new-york   \n",
       "\n",
       "                     name                                          image_url  \\\n",
       "0                Rubirosa  https://s3-media4.fl.yelpcdn.com/bphoto/LuSzR8...   \n",
       "1  Piccola Cucina Osteria  https://s3-media1.fl.yelpcdn.com/bphoto/U9CN5Q...   \n",
       "2     Trattoria Trecolori  https://s3-media4.fl.yelpcdn.com/bphoto/G8vBgH...   \n",
       "3        Osteria Brooklyn  https://s3-media1.fl.yelpcdn.com/bphoto/QzJCcB...   \n",
       "4        Giano Restaurant  https://s3-media1.fl.yelpcdn.com/bphoto/0PrOZ5...   \n",
       "\n",
       "   is_closed                                                url  review_count  \\\n",
       "0      False  https://www.yelp.com/biz/rubirosa-new-york-2?a...          2258   \n",
       "1      False  https://www.yelp.com/biz/piccola-cucina-osteri...           563   \n",
       "2      False  https://www.yelp.com/biz/trattoria-trecolori-n...          2345   \n",
       "3      False  https://www.yelp.com/biz/osteria-brooklyn-broo...            26   \n",
       "4      False  https://www.yelp.com/biz/giano-restaurant-new-...           600   \n",
       "\n",
       "                                          categories  rating  \\\n",
       "0  [{'alias': 'italian', 'title': 'Italian'}, {'a...     4.5   \n",
       "1         [{'alias': 'italian', 'title': 'Italian'}]     4.5   \n",
       "2         [{'alias': 'italian', 'title': 'Italian'}]     4.0   \n",
       "3         [{'alias': 'italian', 'title': 'Italian'}]     4.5   \n",
       "4         [{'alias': 'italian', 'title': 'Italian'}]     4.5   \n",
       "\n",
       "                                         coordinates            transactions  \\\n",
       "0   {'latitude': 40.722766, 'longitude': -73.996233}  ['delivery', 'pickup']   \n",
       "1     {'latitude': 40.72506, 'longitude': -74.00322}  ['delivery', 'pickup']   \n",
       "2     {'latitude': 40.75998, 'longitude': -73.98671}  ['delivery', 'pickup']   \n",
       "3   {'latitude': 40.693154, 'longitude': -73.967177}                      []   \n",
       "4  {'latitude': 40.7262256596862, 'longitude': -7...  ['delivery', 'pickup']   \n",
       "\n",
       "  price                                           location         phone  \\\n",
       "0    $$  {'address1': '235 Mulberry St', 'address2': ''...  1.212965e+10   \n",
       "1    $$  {'address1': '196 Spring St', 'address2': '', ...  1.646479e+10   \n",
       "2    $$  {'address1': '254 West 47th St', 'address2': '...  1.212997e+10   \n",
       "3   NaN  {'address1': '458 Myrtle Ave', 'address2': '',...  1.646751e+10   \n",
       "4    $$  {'address1': '126 E 7th St', 'address2': '', '...  1.212674e+10   \n",
       "\n",
       "    display_phone     distance  \n",
       "0  (212) 965-0500  1932.946770  \n",
       "1  (646) 478-7488  2304.888767  \n",
       "2  (212) 997-4540  6083.735167  \n",
       "3  (646) 750-9156  2663.329278  \n",
       "4  (212) 673-7200  2466.500860  "
      ]
     },
     "execution_count": 13,
     "metadata": {},
     "output_type": "execute_result"
    }
   ],
   "source": [
    "#import libraries needed\n",
    "#open the csv file\n",
    "  \n",
    "import pandas as pd\n",
    "import numpy as np\n",
    "import matplotlib.pyplot as plt\n",
    "\n",
    "%matplotlib inline\n",
    "\n",
    "yelpdf=pd.read_csv(\"./data/MergeRestaurants1.csv\")\n",
    "\n",
    "yelpdf.head(5)"
   ]
  },
  {
   "cell_type": "code",
   "execution_count": 14,
   "metadata": {
    "scrolled": true
   },
   "outputs": [
    {
     "data": {
      "text/plain": [
       "(210, 16)"
      ]
     },
     "execution_count": 14,
     "metadata": {},
     "output_type": "execute_result"
    }
   ],
   "source": [
    "# The data has 210 restaurants\n",
    "yelpdf.shape"
   ]
  },
  {
   "cell_type": "code",
   "execution_count": 26,
   "metadata": {},
   "outputs": [
    {
     "name": "stdout",
     "output_type": "stream",
     "text": [
      "<class 'pandas.core.frame.DataFrame'>\n",
      "RangeIndex: 210 entries, 0 to 209\n",
      "Data columns (total 16 columns):\n",
      " #   Column         Non-Null Count  Dtype  \n",
      "---  ------         --------------  -----  \n",
      " 0   id             210 non-null    object \n",
      " 1   alias          210 non-null    object \n",
      " 2   name           210 non-null    object \n",
      " 3   image_url      210 non-null    object \n",
      " 4   is_closed      210 non-null    bool   \n",
      " 5   url            210 non-null    object \n",
      " 6   review_count   210 non-null    int64  \n",
      " 7   categories     210 non-null    object \n",
      " 8   rating         210 non-null    float64\n",
      " 9   coordinates    210 non-null    object \n",
      " 10  transactions   210 non-null    object \n",
      " 11  price          190 non-null    object \n",
      " 12  location       210 non-null    object \n",
      " 13  phone          207 non-null    float64\n",
      " 14  display_phone  207 non-null    object \n",
      " 15  distance       210 non-null    float64\n",
      "dtypes: bool(1), float64(3), int64(1), object(11)\n",
      "memory usage: 15.9+ KB\n"
     ]
    }
   ],
   "source": [
    "# Search for missing information\n",
    "\n",
    "yelpdf.info()"
   ]
  },
  {
   "cell_type": "code",
   "execution_count": 27,
   "metadata": {},
   "outputs": [
    {
     "data": {
      "text/html": [
       "<div>\n",
       "<style scoped>\n",
       "    .dataframe tbody tr th:only-of-type {\n",
       "        vertical-align: middle;\n",
       "    }\n",
       "\n",
       "    .dataframe tbody tr th {\n",
       "        vertical-align: top;\n",
       "    }\n",
       "\n",
       "    .dataframe thead th {\n",
       "        text-align: right;\n",
       "    }\n",
       "</style>\n",
       "<table border=\"1\" class=\"dataframe\">\n",
       "  <thead>\n",
       "    <tr style=\"text-align: right;\">\n",
       "      <th></th>\n",
       "      <th>id</th>\n",
       "      <th>alias</th>\n",
       "      <th>name</th>\n",
       "      <th>image_url</th>\n",
       "      <th>is_closed</th>\n",
       "      <th>url</th>\n",
       "      <th>review_count</th>\n",
       "      <th>categories</th>\n",
       "      <th>rating</th>\n",
       "      <th>coordinates</th>\n",
       "      <th>transactions</th>\n",
       "      <th>price</th>\n",
       "      <th>location</th>\n",
       "      <th>phone</th>\n",
       "      <th>display_phone</th>\n",
       "      <th>distance</th>\n",
       "    </tr>\n",
       "  </thead>\n",
       "  <tbody>\n",
       "    <tr>\n",
       "      <th>0</th>\n",
       "      <td>False</td>\n",
       "      <td>False</td>\n",
       "      <td>False</td>\n",
       "      <td>False</td>\n",
       "      <td>False</td>\n",
       "      <td>False</td>\n",
       "      <td>False</td>\n",
       "      <td>False</td>\n",
       "      <td>False</td>\n",
       "      <td>False</td>\n",
       "      <td>False</td>\n",
       "      <td>False</td>\n",
       "      <td>False</td>\n",
       "      <td>False</td>\n",
       "      <td>False</td>\n",
       "      <td>False</td>\n",
       "    </tr>\n",
       "    <tr>\n",
       "      <th>1</th>\n",
       "      <td>False</td>\n",
       "      <td>False</td>\n",
       "      <td>False</td>\n",
       "      <td>False</td>\n",
       "      <td>False</td>\n",
       "      <td>False</td>\n",
       "      <td>False</td>\n",
       "      <td>False</td>\n",
       "      <td>False</td>\n",
       "      <td>False</td>\n",
       "      <td>False</td>\n",
       "      <td>False</td>\n",
       "      <td>False</td>\n",
       "      <td>False</td>\n",
       "      <td>False</td>\n",
       "      <td>False</td>\n",
       "    </tr>\n",
       "    <tr>\n",
       "      <th>2</th>\n",
       "      <td>False</td>\n",
       "      <td>False</td>\n",
       "      <td>False</td>\n",
       "      <td>False</td>\n",
       "      <td>False</td>\n",
       "      <td>False</td>\n",
       "      <td>False</td>\n",
       "      <td>False</td>\n",
       "      <td>False</td>\n",
       "      <td>False</td>\n",
       "      <td>False</td>\n",
       "      <td>False</td>\n",
       "      <td>False</td>\n",
       "      <td>False</td>\n",
       "      <td>False</td>\n",
       "      <td>False</td>\n",
       "    </tr>\n",
       "    <tr>\n",
       "      <th>3</th>\n",
       "      <td>False</td>\n",
       "      <td>False</td>\n",
       "      <td>False</td>\n",
       "      <td>False</td>\n",
       "      <td>False</td>\n",
       "      <td>False</td>\n",
       "      <td>False</td>\n",
       "      <td>False</td>\n",
       "      <td>False</td>\n",
       "      <td>False</td>\n",
       "      <td>False</td>\n",
       "      <td>True</td>\n",
       "      <td>False</td>\n",
       "      <td>False</td>\n",
       "      <td>False</td>\n",
       "      <td>False</td>\n",
       "    </tr>\n",
       "    <tr>\n",
       "      <th>4</th>\n",
       "      <td>False</td>\n",
       "      <td>False</td>\n",
       "      <td>False</td>\n",
       "      <td>False</td>\n",
       "      <td>False</td>\n",
       "      <td>False</td>\n",
       "      <td>False</td>\n",
       "      <td>False</td>\n",
       "      <td>False</td>\n",
       "      <td>False</td>\n",
       "      <td>False</td>\n",
       "      <td>False</td>\n",
       "      <td>False</td>\n",
       "      <td>False</td>\n",
       "      <td>False</td>\n",
       "      <td>False</td>\n",
       "    </tr>\n",
       "    <tr>\n",
       "      <th>...</th>\n",
       "      <td>...</td>\n",
       "      <td>...</td>\n",
       "      <td>...</td>\n",
       "      <td>...</td>\n",
       "      <td>...</td>\n",
       "      <td>...</td>\n",
       "      <td>...</td>\n",
       "      <td>...</td>\n",
       "      <td>...</td>\n",
       "      <td>...</td>\n",
       "      <td>...</td>\n",
       "      <td>...</td>\n",
       "      <td>...</td>\n",
       "      <td>...</td>\n",
       "      <td>...</td>\n",
       "      <td>...</td>\n",
       "    </tr>\n",
       "    <tr>\n",
       "      <th>205</th>\n",
       "      <td>False</td>\n",
       "      <td>False</td>\n",
       "      <td>False</td>\n",
       "      <td>False</td>\n",
       "      <td>False</td>\n",
       "      <td>False</td>\n",
       "      <td>False</td>\n",
       "      <td>False</td>\n",
       "      <td>False</td>\n",
       "      <td>False</td>\n",
       "      <td>False</td>\n",
       "      <td>False</td>\n",
       "      <td>False</td>\n",
       "      <td>False</td>\n",
       "      <td>False</td>\n",
       "      <td>False</td>\n",
       "    </tr>\n",
       "    <tr>\n",
       "      <th>206</th>\n",
       "      <td>False</td>\n",
       "      <td>False</td>\n",
       "      <td>False</td>\n",
       "      <td>False</td>\n",
       "      <td>False</td>\n",
       "      <td>False</td>\n",
       "      <td>False</td>\n",
       "      <td>False</td>\n",
       "      <td>False</td>\n",
       "      <td>False</td>\n",
       "      <td>False</td>\n",
       "      <td>False</td>\n",
       "      <td>False</td>\n",
       "      <td>False</td>\n",
       "      <td>False</td>\n",
       "      <td>False</td>\n",
       "    </tr>\n",
       "    <tr>\n",
       "      <th>207</th>\n",
       "      <td>False</td>\n",
       "      <td>False</td>\n",
       "      <td>False</td>\n",
       "      <td>False</td>\n",
       "      <td>False</td>\n",
       "      <td>False</td>\n",
       "      <td>False</td>\n",
       "      <td>False</td>\n",
       "      <td>False</td>\n",
       "      <td>False</td>\n",
       "      <td>False</td>\n",
       "      <td>False</td>\n",
       "      <td>False</td>\n",
       "      <td>False</td>\n",
       "      <td>False</td>\n",
       "      <td>False</td>\n",
       "    </tr>\n",
       "    <tr>\n",
       "      <th>208</th>\n",
       "      <td>False</td>\n",
       "      <td>False</td>\n",
       "      <td>False</td>\n",
       "      <td>False</td>\n",
       "      <td>False</td>\n",
       "      <td>False</td>\n",
       "      <td>False</td>\n",
       "      <td>False</td>\n",
       "      <td>False</td>\n",
       "      <td>False</td>\n",
       "      <td>False</td>\n",
       "      <td>True</td>\n",
       "      <td>False</td>\n",
       "      <td>False</td>\n",
       "      <td>False</td>\n",
       "      <td>False</td>\n",
       "    </tr>\n",
       "    <tr>\n",
       "      <th>209</th>\n",
       "      <td>False</td>\n",
       "      <td>False</td>\n",
       "      <td>False</td>\n",
       "      <td>False</td>\n",
       "      <td>False</td>\n",
       "      <td>False</td>\n",
       "      <td>False</td>\n",
       "      <td>False</td>\n",
       "      <td>False</td>\n",
       "      <td>False</td>\n",
       "      <td>False</td>\n",
       "      <td>False</td>\n",
       "      <td>False</td>\n",
       "      <td>False</td>\n",
       "      <td>False</td>\n",
       "      <td>False</td>\n",
       "    </tr>\n",
       "  </tbody>\n",
       "</table>\n",
       "<p>210 rows × 16 columns</p>\n",
       "</div>"
      ],
      "text/plain": [
       "        id  alias   name  image_url  is_closed    url  review_count  \\\n",
       "0    False  False  False      False      False  False         False   \n",
       "1    False  False  False      False      False  False         False   \n",
       "2    False  False  False      False      False  False         False   \n",
       "3    False  False  False      False      False  False         False   \n",
       "4    False  False  False      False      False  False         False   \n",
       "..     ...    ...    ...        ...        ...    ...           ...   \n",
       "205  False  False  False      False      False  False         False   \n",
       "206  False  False  False      False      False  False         False   \n",
       "207  False  False  False      False      False  False         False   \n",
       "208  False  False  False      False      False  False         False   \n",
       "209  False  False  False      False      False  False         False   \n",
       "\n",
       "     categories  rating  coordinates  transactions  price  location  phone  \\\n",
       "0         False   False        False         False  False     False  False   \n",
       "1         False   False        False         False  False     False  False   \n",
       "2         False   False        False         False  False     False  False   \n",
       "3         False   False        False         False   True     False  False   \n",
       "4         False   False        False         False  False     False  False   \n",
       "..          ...     ...          ...           ...    ...       ...    ...   \n",
       "205       False   False        False         False  False     False  False   \n",
       "206       False   False        False         False  False     False  False   \n",
       "207       False   False        False         False  False     False  False   \n",
       "208       False   False        False         False   True     False  False   \n",
       "209       False   False        False         False  False     False  False   \n",
       "\n",
       "     display_phone  distance  \n",
       "0            False     False  \n",
       "1            False     False  \n",
       "2            False     False  \n",
       "3            False     False  \n",
       "4            False     False  \n",
       "..             ...       ...  \n",
       "205          False     False  \n",
       "206          False     False  \n",
       "207          False     False  \n",
       "208          False     False  \n",
       "209          False     False  \n",
       "\n",
       "[210 rows x 16 columns]"
      ]
     },
     "execution_count": 27,
     "metadata": {},
     "output_type": "execute_result"
    }
   ],
   "source": [
    "yelpdf.isna()"
   ]
  },
  {
   "cell_type": "markdown",
   "metadata": {},
   "source": [
    "#### Missing data\n",
    "\n",
    "There area some null values that appear in the price columns, as they appear as True.The price has 20 missing values and the  The price in this case is a criteria used by Yelp to indicate if a restaurant is cheap or expensive. A low priced restaurant has one dollar sign, and an expensive on has four dollar sign. There are many other columns such as image url that are not useful to the data exploration. \n",
    "\n",
    "Therefore, we will only concentrate on the columns with information we want to analyze furthere. That is, name, rating, review count."
   ]
  },
  {
   "cell_type": "code",
   "execution_count": 16,
   "metadata": {},
   "outputs": [
    {
     "data": {
      "text/html": [
       "<div>\n",
       "<style scoped>\n",
       "    .dataframe tbody tr th:only-of-type {\n",
       "        vertical-align: middle;\n",
       "    }\n",
       "\n",
       "    .dataframe tbody tr th {\n",
       "        vertical-align: top;\n",
       "    }\n",
       "\n",
       "    .dataframe thead th {\n",
       "        text-align: right;\n",
       "    }\n",
       "</style>\n",
       "<table border=\"1\" class=\"dataframe\">\n",
       "  <thead>\n",
       "    <tr style=\"text-align: right;\">\n",
       "      <th></th>\n",
       "      <th>Name</th>\n",
       "      <th>Rating</th>\n",
       "      <th>Reviews</th>\n",
       "      <th>Closed</th>\n",
       "    </tr>\n",
       "  </thead>\n",
       "  <tbody>\n",
       "    <tr>\n",
       "      <th>0</th>\n",
       "      <td>Rubirosa</td>\n",
       "      <td>4.5</td>\n",
       "      <td>2258</td>\n",
       "      <td>False</td>\n",
       "    </tr>\n",
       "    <tr>\n",
       "      <th>1</th>\n",
       "      <td>Piccola Cucina Osteria</td>\n",
       "      <td>4.5</td>\n",
       "      <td>563</td>\n",
       "      <td>False</td>\n",
       "    </tr>\n",
       "    <tr>\n",
       "      <th>2</th>\n",
       "      <td>Trattoria Trecolori</td>\n",
       "      <td>4.0</td>\n",
       "      <td>2345</td>\n",
       "      <td>False</td>\n",
       "    </tr>\n",
       "    <tr>\n",
       "      <th>3</th>\n",
       "      <td>Osteria Brooklyn</td>\n",
       "      <td>4.5</td>\n",
       "      <td>26</td>\n",
       "      <td>False</td>\n",
       "    </tr>\n",
       "    <tr>\n",
       "      <th>4</th>\n",
       "      <td>Giano Restaurant</td>\n",
       "      <td>4.5</td>\n",
       "      <td>600</td>\n",
       "      <td>False</td>\n",
       "    </tr>\n",
       "  </tbody>\n",
       "</table>\n",
       "</div>"
      ],
      "text/plain": [
       "                     Name  Rating  Reviews  Closed\n",
       "0                Rubirosa     4.5     2258   False\n",
       "1  Piccola Cucina Osteria     4.5      563   False\n",
       "2     Trattoria Trecolori     4.0     2345   False\n",
       "3        Osteria Brooklyn     4.5       26   False\n",
       "4        Giano Restaurant     4.5      600   False"
      ]
     },
     "execution_count": 16,
     "metadata": {},
     "output_type": "execute_result"
    }
   ],
   "source": [
    "name=pd.Series(yelpdf['name'])\n",
    "rate=pd.Series(yelpdf['rating'])\n",
    "review=pd.Series(yelpdf['review_count'])\n",
    "closed=pd.Series(yelpdf['is_closed'])\n",
    "\n",
    "food=pd.DataFrame({'Name':name,'Rating':rate,'Reviews':review,'Closed':closed})\n",
    "\n",
    "food.head(5)"
   ]
  },
  {
   "cell_type": "markdown",
   "metadata": {},
   "source": [
    "All the restaurants we are analyzing are open, meaning they are all valid option for dining in. "
   ]
  },
  {
   "cell_type": "code",
   "execution_count": 9,
   "metadata": {
    "scrolled": false
   },
   "outputs": [
    {
     "data": {
      "text/html": [
       "<div>\n",
       "<style scoped>\n",
       "    .dataframe tbody tr th:only-of-type {\n",
       "        vertical-align: middle;\n",
       "    }\n",
       "\n",
       "    .dataframe tbody tr th {\n",
       "        vertical-align: top;\n",
       "    }\n",
       "\n",
       "    .dataframe thead th {\n",
       "        text-align: right;\n",
       "    }\n",
       "</style>\n",
       "<table border=\"1\" class=\"dataframe\">\n",
       "  <thead>\n",
       "    <tr style=\"text-align: right;\">\n",
       "      <th></th>\n",
       "      <th>Name</th>\n",
       "      <th>Rating</th>\n",
       "      <th>Reviews</th>\n",
       "    </tr>\n",
       "    <tr>\n",
       "      <th>Closed</th>\n",
       "      <th></th>\n",
       "      <th></th>\n",
       "      <th></th>\n",
       "    </tr>\n",
       "  </thead>\n",
       "  <tbody>\n",
       "    <tr>\n",
       "      <th>False</th>\n",
       "      <td>210</td>\n",
       "      <td>210</td>\n",
       "      <td>210</td>\n",
       "    </tr>\n",
       "  </tbody>\n",
       "</table>\n",
       "</div>"
      ],
      "text/plain": [
       "        Name  Rating  Reviews\n",
       "Closed                       \n",
       "False    210     210      210"
      ]
     },
     "execution_count": 9,
     "metadata": {},
     "output_type": "execute_result"
    }
   ],
   "source": [
    "food.groupby('Closed').count()"
   ]
  },
  {
   "cell_type": "code",
   "execution_count": 12,
   "metadata": {
    "scrolled": true
   },
   "outputs": [
    {
     "data": {
      "text/html": [
       "<div>\n",
       "<style scoped>\n",
       "    .dataframe tbody tr th:only-of-type {\n",
       "        vertical-align: middle;\n",
       "    }\n",
       "\n",
       "    .dataframe tbody tr th {\n",
       "        vertical-align: top;\n",
       "    }\n",
       "\n",
       "    .dataframe thead th {\n",
       "        text-align: right;\n",
       "    }\n",
       "</style>\n",
       "<table border=\"1\" class=\"dataframe\">\n",
       "  <thead>\n",
       "    <tr style=\"text-align: right;\">\n",
       "      <th></th>\n",
       "      <th>Rating</th>\n",
       "      <th>Reviews</th>\n",
       "    </tr>\n",
       "  </thead>\n",
       "  <tbody>\n",
       "    <tr>\n",
       "      <th>count</th>\n",
       "      <td>210.000000</td>\n",
       "      <td>210.000000</td>\n",
       "    </tr>\n",
       "    <tr>\n",
       "      <th>mean</th>\n",
       "      <td>3.964286</td>\n",
       "      <td>290.709524</td>\n",
       "    </tr>\n",
       "    <tr>\n",
       "      <th>std</th>\n",
       "      <td>0.440107</td>\n",
       "      <td>482.211806</td>\n",
       "    </tr>\n",
       "    <tr>\n",
       "      <th>min</th>\n",
       "      <td>3.000000</td>\n",
       "      <td>1.000000</td>\n",
       "    </tr>\n",
       "    <tr>\n",
       "      <th>25%</th>\n",
       "      <td>3.500000</td>\n",
       "      <td>80.250000</td>\n",
       "    </tr>\n",
       "    <tr>\n",
       "      <th>50%</th>\n",
       "      <td>4.000000</td>\n",
       "      <td>141.000000</td>\n",
       "    </tr>\n",
       "    <tr>\n",
       "      <th>75%</th>\n",
       "      <td>4.500000</td>\n",
       "      <td>260.000000</td>\n",
       "    </tr>\n",
       "    <tr>\n",
       "      <th>max</th>\n",
       "      <td>5.000000</td>\n",
       "      <td>3781.000000</td>\n",
       "    </tr>\n",
       "  </tbody>\n",
       "</table>\n",
       "</div>"
      ],
      "text/plain": [
       "           Rating      Reviews\n",
       "count  210.000000   210.000000\n",
       "mean     3.964286   290.709524\n",
       "std      0.440107   482.211806\n",
       "min      3.000000     1.000000\n",
       "25%      3.500000    80.250000\n",
       "50%      4.000000   141.000000\n",
       "75%      4.500000   260.000000\n",
       "max      5.000000  3781.000000"
      ]
     },
     "execution_count": 12,
     "metadata": {},
     "output_type": "execute_result"
    }
   ],
   "source": [
    "food.describe()"
   ]
  },
  {
   "cell_type": "markdown",
   "metadata": {},
   "source": [
    "Above we see that the minimum rating is 3. Looking at the rating and review table below, we see that the median is better because restaurants with a high review count make the mean higher. Restaurants with an average rating of 4 have the mosts reviews."
   ]
  },
  {
   "cell_type": "code",
   "execution_count": 22,
   "metadata": {
    "scrolled": false
   },
   "outputs": [
    {
     "data": {
      "text/html": [
       "<div>\n",
       "<style scoped>\n",
       "    .dataframe tbody tr th:only-of-type {\n",
       "        vertical-align: middle;\n",
       "    }\n",
       "\n",
       "    .dataframe tbody tr th {\n",
       "        vertical-align: top;\n",
       "    }\n",
       "\n",
       "    .dataframe thead th {\n",
       "        text-align: right;\n",
       "    }\n",
       "</style>\n",
       "<table border=\"1\" class=\"dataframe\">\n",
       "  <thead>\n",
       "    <tr style=\"text-align: right;\">\n",
       "      <th></th>\n",
       "      <th>mean</th>\n",
       "      <th>median</th>\n",
       "    </tr>\n",
       "    <tr>\n",
       "      <th>Rating</th>\n",
       "      <th></th>\n",
       "      <th></th>\n",
       "    </tr>\n",
       "  </thead>\n",
       "  <tbody>\n",
       "    <tr>\n",
       "      <th>3.0</th>\n",
       "      <td>270.500000</td>\n",
       "      <td>90.0</td>\n",
       "    </tr>\n",
       "    <tr>\n",
       "      <th>3.5</th>\n",
       "      <td>211.966667</td>\n",
       "      <td>165.0</td>\n",
       "    </tr>\n",
       "    <tr>\n",
       "      <th>4.0</th>\n",
       "      <td>399.220930</td>\n",
       "      <td>185.5</td>\n",
       "    </tr>\n",
       "    <tr>\n",
       "      <th>4.5</th>\n",
       "      <td>226.372549</td>\n",
       "      <td>119.0</td>\n",
       "    </tr>\n",
       "    <tr>\n",
       "      <th>5.0</th>\n",
       "      <td>57.800000</td>\n",
       "      <td>19.0</td>\n",
       "    </tr>\n",
       "  </tbody>\n",
       "</table>\n",
       "</div>"
      ],
      "text/plain": [
       "              mean  median\n",
       "Rating                    \n",
       "3.0     270.500000    90.0\n",
       "3.5     211.966667   165.0\n",
       "4.0     399.220930   185.5\n",
       "4.5     226.372549   119.0\n",
       "5.0      57.800000    19.0"
      ]
     },
     "execution_count": 22,
     "metadata": {},
     "output_type": "execute_result"
    }
   ],
   "source": [
    "food.groupby('Rating')['Reviews'].aggregate([\"mean\",\"median\"])"
   ]
  },
  {
   "cell_type": "markdown",
   "metadata": {},
   "source": [
    "In the table below we look at the restaurants with the highest rating and arrange from the highest to the lowest. \n",
    "It is evident that some of the ones with the highest rating also have the lowest reviews."
   ]
  },
  {
   "cell_type": "code",
   "execution_count": 18,
   "metadata": {
    "scrolled": false
   },
   "outputs": [
    {
     "data": {
      "text/html": [
       "<div>\n",
       "<style scoped>\n",
       "    .dataframe tbody tr th:only-of-type {\n",
       "        vertical-align: middle;\n",
       "    }\n",
       "\n",
       "    .dataframe tbody tr th {\n",
       "        vertical-align: top;\n",
       "    }\n",
       "\n",
       "    .dataframe thead th {\n",
       "        text-align: right;\n",
       "    }\n",
       "</style>\n",
       "<table border=\"1\" class=\"dataframe\">\n",
       "  <thead>\n",
       "    <tr style=\"text-align: right;\">\n",
       "      <th></th>\n",
       "      <th>Name</th>\n",
       "      <th>Rating</th>\n",
       "      <th>Reviews</th>\n",
       "      <th>Closed</th>\n",
       "    </tr>\n",
       "  </thead>\n",
       "  <tbody>\n",
       "    <tr>\n",
       "      <th>162</th>\n",
       "      <td>Serafina</td>\n",
       "      <td>3.0</td>\n",
       "      <td>75</td>\n",
       "      <td>False</td>\n",
       "    </tr>\n",
       "    <tr>\n",
       "      <th>71</th>\n",
       "      <td>Spolini's</td>\n",
       "      <td>3.0</td>\n",
       "      <td>105</td>\n",
       "      <td>False</td>\n",
       "    </tr>\n",
       "    <tr>\n",
       "      <th>70</th>\n",
       "      <td>Serra by Birreria at Eataly Flatiron</td>\n",
       "      <td>3.0</td>\n",
       "      <td>1487</td>\n",
       "      <td>False</td>\n",
       "    </tr>\n",
       "    <tr>\n",
       "      <th>165</th>\n",
       "      <td>Amici Ristorante</td>\n",
       "      <td>3.0</td>\n",
       "      <td>7</td>\n",
       "      <td>False</td>\n",
       "    </tr>\n",
       "    <tr>\n",
       "      <th>35</th>\n",
       "      <td>Manganaro's Hero Boy</td>\n",
       "      <td>3.0</td>\n",
       "      <td>198</td>\n",
       "      <td>False</td>\n",
       "    </tr>\n",
       "  </tbody>\n",
       "</table>\n",
       "</div>"
      ],
      "text/plain": [
       "                                     Name  Rating  Reviews  Closed\n",
       "162                              Serafina     3.0       75   False\n",
       "71                              Spolini's     3.0      105   False\n",
       "70   Serra by Birreria at Eataly Flatiron     3.0     1487   False\n",
       "165                      Amici Ristorante     3.0        7   False\n",
       "35                   Manganaro's Hero Boy     3.0      198   False"
      ]
     },
     "metadata": {},
     "output_type": "display_data"
    }
   ],
   "source": [
    "food=food.sort_values(by='Rating', ascending = True)\n",
    "display(food.head())"
   ]
  },
  {
   "cell_type": "markdown",
   "metadata": {},
   "source": [
    "The table below shows that restaurants with the highest number of reviews, also have a high rating. "
   ]
  },
  {
   "cell_type": "code",
   "execution_count": 5,
   "metadata": {
    "scrolled": true
   },
   "outputs": [
    {
     "data": {
      "text/html": [
       "<div>\n",
       "<style scoped>\n",
       "    .dataframe tbody tr th:only-of-type {\n",
       "        vertical-align: middle;\n",
       "    }\n",
       "\n",
       "    .dataframe tbody tr th {\n",
       "        vertical-align: top;\n",
       "    }\n",
       "\n",
       "    .dataframe thead th {\n",
       "        text-align: right;\n",
       "    }\n",
       "</style>\n",
       "<table border=\"1\" class=\"dataframe\">\n",
       "  <thead>\n",
       "    <tr style=\"text-align: right;\">\n",
       "      <th></th>\n",
       "      <th>Name</th>\n",
       "      <th>Rating</th>\n",
       "      <th>Reviews</th>\n",
       "      <th>Closed</th>\n",
       "    </tr>\n",
       "  </thead>\n",
       "  <tbody>\n",
       "    <tr>\n",
       "      <th>6</th>\n",
       "      <td>Carmine's Italian Restaurant - Times Square</td>\n",
       "      <td>4.0</td>\n",
       "      <td>3781</td>\n",
       "      <td>False</td>\n",
       "    </tr>\n",
       "    <tr>\n",
       "      <th>45</th>\n",
       "      <td>Bleecker Street Pizza</td>\n",
       "      <td>4.0</td>\n",
       "      <td>2362</td>\n",
       "      <td>False</td>\n",
       "    </tr>\n",
       "    <tr>\n",
       "      <th>187</th>\n",
       "      <td>Bleecker Street Pizza</td>\n",
       "      <td>4.0</td>\n",
       "      <td>2362</td>\n",
       "      <td>False</td>\n",
       "    </tr>\n",
       "    <tr>\n",
       "      <th>2</th>\n",
       "      <td>Trattoria Trecolori</td>\n",
       "      <td>4.0</td>\n",
       "      <td>2345</td>\n",
       "      <td>False</td>\n",
       "    </tr>\n",
       "    <tr>\n",
       "      <th>0</th>\n",
       "      <td>Rubirosa</td>\n",
       "      <td>4.5</td>\n",
       "      <td>2258</td>\n",
       "      <td>False</td>\n",
       "    </tr>\n",
       "  </tbody>\n",
       "</table>\n",
       "</div>"
      ],
      "text/plain": [
       "                                            Name  Rating  Reviews  Closed\n",
       "6    Carmine's Italian Restaurant - Times Square     4.0     3781   False\n",
       "45                         Bleecker Street Pizza     4.0     2362   False\n",
       "187                        Bleecker Street Pizza     4.0     2362   False\n",
       "2                            Trattoria Trecolori     4.0     2345   False\n",
       "0                                       Rubirosa     4.5     2258   False"
      ]
     },
     "metadata": {},
     "output_type": "display_data"
    }
   ],
   "source": [
    "food=food.sort_values(by='Reviews',ascending = False)\n",
    "display(food.head())"
   ]
  },
  {
   "cell_type": "markdown",
   "metadata": {},
   "source": [
    "\n",
    "From the graph below it is clear that most of the Italian restaurants have a rating of 4 and above."
   ]
  },
  {
   "cell_type": "code",
   "execution_count": 28,
   "metadata": {
    "scrolled": true
   },
   "outputs": [
    {
     "data": {
      "text/plain": [
       "<matplotlib.axes._subplots.AxesSubplot at 0x8a8eb50>"
      ]
     },
     "execution_count": 28,
     "metadata": {},
     "output_type": "execute_result"
    },
    {
     "data": {
      "image/png": "[encoded data removed]",
      "text/plain": [
       "<Figure size 432x288 with 1 Axes>"
      ]
     },
     "metadata": {
      "needs_background": "light"
     },
     "output_type": "display_data"
    }
   ],
   "source": [
    "# Make a histogram for rating\n",
    "yelpdf['rating'].hist()"
   ]
  },
  {
   "cell_type": "markdown",
   "metadata": {},
   "source": [
    "The review count shows that mosts restaurants have between 0 to 500 reviews. However, there are afew with high number of reviews."
   ]
  },
  {
   "cell_type": "code",
   "execution_count": 29,
   "metadata": {},
   "outputs": [
    {
     "data": {
      "text/plain": [
       "<matplotlib.axes._subplots.AxesSubplot at 0x8a896e8>"
      ]
     },
     "execution_count": 29,
     "metadata": {},
     "output_type": "execute_result"
    },
    {
     "data": {
      "image/png": "[encoded data removed]",
      "text/plain": [
       "<Figure size 432x288 with 1 Axes>"
      ]
     },
     "metadata": {
      "needs_background": "light"
     },
     "output_type": "display_data"
    }
   ],
   "source": [
    "# Make a histogram for review_count\n",
    "yelpdf['review_count'].hist()"
   ]
  },
  {
   "cell_type": "markdown",
   "metadata": {},
   "source": [
    "From the table and graph below, most of the restaurants with 4 and 4.5 have the most reviews, probably indicating their popularity. "
   ]
  },
  {
   "cell_type": "code",
   "execution_count": 7,
   "metadata": {
    "scrolled": true
   },
   "outputs": [
    {
     "data": {
      "text/html": [
       "<div>\n",
       "<style scoped>\n",
       "    .dataframe tbody tr th:only-of-type {\n",
       "        vertical-align: middle;\n",
       "    }\n",
       "\n",
       "    .dataframe tbody tr th {\n",
       "        vertical-align: top;\n",
       "    }\n",
       "\n",
       "    .dataframe thead th {\n",
       "        text-align: right;\n",
       "    }\n",
       "</style>\n",
       "<table border=\"1\" class=\"dataframe\">\n",
       "  <thead>\n",
       "    <tr style=\"text-align: right;\">\n",
       "      <th></th>\n",
       "      <th>Reviews</th>\n",
       "    </tr>\n",
       "    <tr>\n",
       "      <th>Rating</th>\n",
       "      <th></th>\n",
       "    </tr>\n",
       "  </thead>\n",
       "  <tbody>\n",
       "    <tr>\n",
       "      <th>3.0</th>\n",
       "      <td>2164</td>\n",
       "    </tr>\n",
       "    <tr>\n",
       "      <th>3.5</th>\n",
       "      <td>12718</td>\n",
       "    </tr>\n",
       "    <tr>\n",
       "      <th>4.0</th>\n",
       "      <td>34333</td>\n",
       "    </tr>\n",
       "    <tr>\n",
       "      <th>4.5</th>\n",
       "      <td>11545</td>\n",
       "    </tr>\n",
       "    <tr>\n",
       "      <th>5.0</th>\n",
       "      <td>289</td>\n",
       "    </tr>\n",
       "  </tbody>\n",
       "</table>\n",
       "</div>"
      ],
      "text/plain": [
       "        Reviews\n",
       "Rating         \n",
       "3.0        2164\n",
       "3.5       12718\n",
       "4.0       34333\n",
       "4.5       11545\n",
       "5.0         289"
      ]
     },
     "execution_count": 7,
     "metadata": {},
     "output_type": "execute_result"
    }
   ],
   "source": [
    "food.groupby('Rating')[['Reviews']].sum()"
   ]
  },
  {
   "cell_type": "code",
   "execution_count": 11,
   "metadata": {
    "scrolled": true
   },
   "outputs": [
    {
     "data": {
      "text/plain": [
       "Text(0, 0.5, 'Reviews')"
      ]
     },
     "execution_count": 11,
     "metadata": {},
     "output_type": "execute_result"
    },
    {
     "data": {
      "image/png": "[encoded data removed]",
      "text/plain": [
       "<Figure size 432x288 with 1 Axes>"
      ]
     },
     "metadata": {
      "needs_background": "light"
     },
     "output_type": "display_data"
    }
   ],
   "source": [
    "rate=np.array(food['Rating'])\n",
    "review=np.array(food['Reviews'])\n",
    "\n",
    "plt.bar(rate,review)\n",
    "plt.title('Graph of Rating and Reviews')\n",
    "plt.xlabel('Rating')\n",
    "plt.ylabel('Reviews')"
   ]
  },
  {
   "cell_type": "markdown",
   "metadata": {},
   "source": [
    "### Conclusion\n",
    "\n",
    "- Based on the exploration it is best to use a combination of ratings and reviews to make a good judgement of an Italian restaurant. This is because 2 restaurants had a rating of 5, but only 1 review. \n",
    "- Many people enjoy Italian restaurants because no restaurant had a rating less than 3.\n",
    "\n",
    "My hypothesis is correct you need to use both ratings and review to make an informed decision on popular restaurant. "
   ]
  },
  {
   "cell_type": "markdown",
   "metadata": {},
   "source": [
    "### Limitations\n",
    "There could be other factors that make the restaurants popular such as proximity to a popular tourist attraction. "
   ]
  },
  {
   "cell_type": "markdown",
   "metadata": {},
   "source": [
    "## Software Requirements\n",
    "\n",
    "**Libraries needed for API:** Requests, Numpy, Pandas, Confiparser, Json\n",
    "\n",
    "**Libraries needed for Data Exploration:** Numpy, Pandas, Matplotlib"
   ]
  },
  {
   "cell_type": "markdown",
   "metadata": {},
   "source": [
    "## Data\n",
    "\n",
    "The data was from a derived by using the Yelp API. To get the data using the Yelp API requires authentication, that means getting an API key. Required parameters are terms and location. The dataset used in this project is Italian Restaurants in New York City. "
   ]
  },
  {
   "cell_type": "markdown",
   "metadata": {},
   "source": [
    "## References\n",
    "\n",
    "- [Wikipedia](https://en.wikipedia.org/wiki/Central_Park)\n",
    "- Kazil and Jarmul, Data Wrangling with Python: Tips and Tools to Make Your Life Easier, O'Reilly 2016\n",
    "- [Yelp](https://www.yelp.com/developers/documentation/v3)\n",
    "- [Webscraping with requests](https://www.youtube.com/watch?v=vgHwPPRM5JE)\n",
    "- [Config Files](https://www.youtube.com/watch?v=Gdw0-QGq-z0)\n"
   ]
  }
 ],
 "metadata": {
  "kernelspec": {
   "display_name": "Python 3",
   "language": "python",
   "name": "python3"
  },
  "language_info": {
   "codemirror_mode": {
    "name": "ipython",
    "version": 3
   },
   "file_extension": ".py",
   "mimetype": "text/x-python",
   "name": "python",
   "nbconvert_exporter": "python",
   "pygments_lexer": "ipython3",
   "version": "3.8.3"
  }
 },
 "nbformat": 4,
 "nbformat_minor": 4
}
