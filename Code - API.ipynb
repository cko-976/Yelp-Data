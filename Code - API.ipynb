{
 "cells": [
  {
   "cell_type": "markdown",
   "metadata": {},
   "source": [
    "## Code for Yelp API\n",
    "\n",
    "Below is the code that is used to get data from the Yelp API. To get the information one needs an authentication key. You also need to state the location. There is a limit of 50 and by setting the offset can get a maximum of 1000."
   ]
  },
  {
   "cell_type": "code",
   "execution_count": 1,
   "metadata": {},
   "outputs": [],
   "source": [
    "# Import the need libraries\n",
    "\n",
    "import requests\n",
    "import numpy as np\n"
   ]
  },
  {
   "cell_type": "markdown",
   "metadata": {},
   "source": [
    "Configparser is useful is you want to use key authentication. \n",
    "With Config you can store authentication details in another file and call the information as needed. "
   ]
  },
  {
   "cell_type": "code",
   "execution_count": 1,
   "metadata": {},
   "outputs": [
    {
     "data": {
      "text/plain": [
       "['config.ini']"
      ]
     },
     "execution_count": 1,
     "metadata": {},
     "output_type": "execute_result"
    }
   ],
   "source": [
    "import configparser\n",
    "config=configparser.ConfigParser()\n",
    "config.read('config.ini')"
   ]
  },
  {
   "cell_type": "code",
   "execution_count": 3,
   "metadata": {},
   "outputs": [],
   "source": [
    "clientId = config['Site']['ClientId']\n",
    "api_key = config['User']['api_key']"
   ]
  },
  {
   "cell_type": "markdown",
   "metadata": {},
   "source": [
    "To get the information one needs an authentication key. You also need to state the location. There is a limit of 50 and by setting the offset can get a maximum of 1000."
   ]
  },
  {
   "cell_type": "code",
   "execution_count": 4,
   "metadata": {},
   "outputs": [
    {
     "name": "stdout",
     "output_type": "stream",
     "text": [
      "<Response [200]>\n",
      "<class 'str'>\n",
      "{\"businesses\": [{\"id\": \"H8qcX7MNNnC1bqE0LnIhKg\", \"alias\": \"sim\\u00f2-pizza-new-york-4\", \"name\": \"SIM\\u00d2 PIZZA\", \"image_url\": \"https://s3-media3.fl.yelpcdn.com/bphoto/qaSQsBdO9e1gz5OH9ROckw/o.jpg\", \"is_closed\": false, \"url\": \"https://www.yelp.com/biz/sim%C3%B2-pizza-new-york-4?adjust_creative=WAxio19XFGhmTEs-1xPo1A&utm_campaign=yelp_api_v3&utm_medium=api_v3_business_search&utm_source=WAxio19XFGhmTEs-1xPo1A\", \"review_count\": 141, \"categories\": [{\"alias\": \"pizza\", \"title\": \"Pizza\"}], \"rating\": 4.5, \"coordinates\": {\"latitude\": 40.7392597584612, \"longitude\": -74.0088130692187}, \"transactions\": [\"delivery\", \"pickup\"], \"price\": \"$\", \"location\": {\"address1\": \"90-92 Gansevoort St\", \"address2\": \"\", \"address3\": null, \"city\": \"New York\", \"zip_code\": \"10014\", \"country\": \"US\", \"state\": \"NY\", \"display_address\": [\"90-92 Gansevoort St\", \"New York, NY 10014\"]}, \"phone\": \"+12124622703\", \"display_phone\": \"(212) 462-2703\", \"distance\": 3954.1313238707344}, {\"id\": \"HbCyzokiA19bEWUp6mga_g\", \"alias\": \"bibi-\n"
     ]
    }
   ],
   "source": [
    "# Set the terms. location and limit. Also, if getting more than 50 need to set the offset\n",
    "\n",
    "term = 'Italian'\n",
    "location = 'NYC'\n",
    "SEARCH_LIMIT = 50\n",
    "\n",
    "url = 'https://api.yelp.com/v3/businesses/search'\n",
    "\n",
    "headers = {\n",
    "        'Authorization': 'Bearer {}'.format(api_key),\n",
    "    }\n",
    "\n",
    "i=[]\n",
    "\n",
    "# Set the offset by using the range and save file json files\n",
    "for i in range(0,1000,50):\n",
    "    url_params = {\n",
    "                    'term': term,\n",
    "                    'location': location,\n",
    "                    'limit': SEARCH_LIMIT,\n",
    "                    'offset': i\n",
    "                }\n",
    "response = requests.get(url, headers=headers, params=url_params)\n",
    "\n",
    "with open('data/yelpdata.json','w') as data_file:\n",
    "    data_file.write(response.text)\n",
    "\n",
    "print(response)\n",
    "print(type(response.text))\n",
    "print(response.text[:1000])"
   ]
  },
  {
   "cell_type": "markdown",
   "metadata": {},
   "source": [
    "#### Merge files and put them in .csv file\n",
    "\n",
    "The files come as json files. The files are merged to make on file which is saved as a csv file. "
   ]
  },
  {
   "cell_type": "code",
   "execution_count": 2,
   "metadata": {},
   "outputs": [
    {
     "data": {
      "text/plain": [
       "(210, 16)"
      ]
     },
     "execution_count": 2,
     "metadata": {},
     "output_type": "execute_result"
    }
   ],
   "source": [
    "# Place the yelpdata files into DataFrames for merging\n",
    "#Merge all the yelpdata files to a csv file\n",
    "\n",
    "import pandas as pd\n",
    "import numpy as np\n",
    "import json\n",
    "\n",
    "with open('./data/yelpdata1.json') as f1:\n",
    "    data1=json.load(f1)\n",
    "    \n",
    "with open('./data/yelpdata2.json') as f2:\n",
    "    data2=json.load(f2)\n",
    "    \n",
    "with open('./data/yelpdata3.json') as f3:\n",
    "    data3=json.load(f3)\n",
    "    \n",
    "with open('./data/yelpdata4.json') as f4:\n",
    "    data4=json.load(f4)\n",
    "    \n",
    "with open('./data/yelpdata5.json') as f5:\n",
    "    data5=json.load(f5)\n",
    "    \n",
    "df1=pd.DataFrame(data1['businesses'])\n",
    "df2=pd.DataFrame(data2['businesses'])\n",
    "df3=pd.DataFrame(data3['businesses'])\n",
    "df4=pd.DataFrame(data4['businesses'])\n",
    "df5=pd.DataFrame(data5['businesses'])\n",
    "\n",
    "MergeJson=pd.concat([df1,df2,df3,df4,df5])\n",
    "MergeJson.to_csv(\"./data/MergeRestaurants1.csv\",index=False)\n",
    "MergeJson.shape"
   ]
  }
 ],
 "metadata": {
  "kernelspec": {
   "display_name": "Python 3",
   "language": "python",
   "name": "python3"
  },
  "language_info": {
   "codemirror_mode": {
    "name": "ipython",
    "version": 3
   },
   "file_extension": ".py",
   "mimetype": "text/x-python",
   "name": "python",
   "nbconvert_exporter": "python",
   "pygments_lexer": "ipython3",
   "version": "3.8.3"
  }
 },
 "nbformat": 4,
 "nbformat_minor": 4
}
